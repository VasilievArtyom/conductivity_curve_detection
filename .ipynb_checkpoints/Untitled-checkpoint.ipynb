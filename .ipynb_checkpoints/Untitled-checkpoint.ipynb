{
 "cells": [
  {
   "cell_type": "code",
   "execution_count": 1,
   "id": "409330ee",
   "metadata": {},
   "outputs": [],
   "source": [
    "%matplotlib inline\n",
    "\n",
    "import pandas as pd\n",
    "import numpy as np"
   ]
  },
  {
   "cell_type": "code",
   "execution_count": 2,
   "id": "1f1c2614",
   "metadata": {},
   "outputs": [],
   "source": [
    "from scipy.optimize import curve_fit\n",
    "from os import path\n",
    "import matplotlib.pyplot as plt\n",
    "\n",
    "plt.rc('text', usetex=True)"
   ]
  },
  {
   "cell_type": "markdown",
   "id": "663a2b5e",
   "metadata": {},
   "source": [
    "Заряд электрона и коэффициент $C_{em}$"
   ]
  },
  {
   "cell_type": "code",
   "execution_count": 3,
   "id": "ef4e1237",
   "metadata": {},
   "outputs": [],
   "source": [
    "e = 0.303\n",
    "C_em = (6.0 / 9.0 ) * e**2 # for 2+1; \n",
    "# C_em = (5.0 / 9.0 ) * e**2 # for 2+0;"
   ]
  },
  {
   "cell_type": "markdown",
   "id": "4d980999",
   "metadata": {},
   "source": [
    "T in MeV"
   ]
  },
  {
   "cell_type": "code",
   "execution_count": 4,
   "id": "6a272281",
   "metadata": {},
   "outputs": [],
   "source": [
    "T = 200"
   ]
  },
  {
   "cell_type": "markdown",
   "id": "052e1a7d",
   "metadata": {},
   "source": [
    "$\\frac {\\Delta \\sigma} {T} = c(T) C_{em} ( \\frac {\\mu_B} {T}  )^2$"
   ]
  },
  {
   "cell_type": "code",
   "execution_count": 5,
   "id": "6775dcdc",
   "metadata": {},
   "outputs": [],
   "source": [
    "# Define functions to fit\n",
    "\n",
    "def f(_mu, _c_factor):\n",
    "    return _c_factor * C_em * (_mu / T)**2"
   ]
  },
  {
   "cell_type": "code",
   "execution_count": 6,
   "id": "65c2405a",
   "metadata": {},
   "outputs": [
    {
     "data": {
      "text/plain": [
       "(array([0.        , 0.0001913 , 0.00066957, 0.00069565, 0.00104348,\n",
       "        0.00152174, 0.00250435, 0.00286957, 0.00369565, 0.00494783,\n",
       "        0.00606957]),\n",
       " array([  0.        ,  10.05291005,  20.03968254,  30.02645503,\n",
       "         40.07936508,  50.        ,  60.05291005,  70.03968254,\n",
       "         80.02645503,  90.01322751, 100.        ]))"
      ]
     },
     "execution_count": 6,
     "metadata": {},
     "output_type": "execute_result"
    }
   ],
   "source": [
    "data = pd.read_csv('raw/1312.3189.csv', header=None).to_numpy()\n",
    "delta_sigma_over_t = data[:,1] - data[0,1]\n",
    "mu = data[:,0]\n",
    "delta_sigma_over_t, mu"
   ]
  },
  {
   "cell_type": "code",
   "execution_count": 17,
   "id": "2e341b74",
   "metadata": {},
   "outputs": [
    {
     "data": {
      "text/plain": [
       "<matplotlib.collections.PathCollection at 0x7fe5f0d48150>"
      ]
     },
     "execution_count": 17,
     "metadata": {},
     "output_type": "execute_result"
    },
    {
     "data": {
      "image/png": "[encoded data removed]",
      "text/plain": [
       "<Figure size 432x288 with 1 Axes>"
      ]
     },
     "metadata": {
      "needs_background": "light"
     },
     "output_type": "display_data"
    }
   ],
   "source": [
    "plt.scatter(data[:,0], data[:,1])"
   ]
  },
  {
   "cell_type": "code",
   "execution_count": 15,
   "id": "d3adcdfa",
   "metadata": {},
   "outputs": [
    {
     "data": {
      "text/plain": [
       "<matplotlib.collections.PathCollection at 0x7fe5f0ef4ed0>"
      ]
     },
     "execution_count": 15,
     "metadata": {},
     "output_type": "execute_result"
    },
    {
     "data": {
      "image/png": "[encoded data removed]",
      "text/plain": [
       "<Figure size 432x288 with 1 Axes>"
      ]
     },
     "metadata": {
      "needs_background": "light"
     },
     "output_type": "display_data"
    }
   ],
   "source": [
    "plt.scatter(mu, delta_sigma_over_t)"
   ]
  },
  {
   "cell_type": "code",
   "execution_count": 23,
   "id": "45d6253e",
   "metadata": {},
   "outputs": [],
   "source": [
    "ftom = 0 # use 0 to start from the first element\n",
    "to = -1 # use -1 to finish on last the last element\n",
    "initial_guess = [0.006] # guess for c_factor \n",
    "fit_vals, covar = curve_fit(f, mu[ftom:to], delta_sigma_over_t[ftom:to],\n",
    "   absolute_sigma=True, sigma=np.full_like(delta_sigma_over_t[ftom:to], 0.0008), maxfev=10000, p0=initial_guess)\n",
    "fit_err = np.sqrt(np.diag(covar))"
   ]
  },
  {
   "cell_type": "code",
   "execution_count": 24,
   "id": "350a5746",
   "metadata": {},
   "outputs": [],
   "source": [
    "c_factor, c_factor_err = fit_vals[0], fit_err[0]"
   ]
  },
  {
   "cell_type": "code",
   "execution_count": 25,
   "id": "423a0688",
   "metadata": {},
   "outputs": [],
   "source": [
    "drawpoits_num = 1000\n",
    "mu_fit = np.linspace(mu[ftom], mu[to], num=drawpoits_num)\n",
    "delta_sigma_over_t_fit = np.zeros(drawpoits_num)\n",
    "for i in range(0, drawpoits_num):\n",
    "    delta_sigma_over_t_fit[i] = f(mu_fit[i], c_factor)"
   ]
  },
  {
   "cell_type": "code",
   "execution_count": 29,
   "id": "9c2db225",
   "metadata": {},
   "outputs": [
    {
     "data": {
      "image/png": "[encoded data removed]",
      "text/plain": [
       "<Figure size 432x288 with 1 Axes>"
      ]
     },
     "metadata": {
      "needs_background": "light"
     },
     "output_type": "display_data"
    }
   ],
   "source": [
    "fig, ax = plt.subplots()\n",
    "ax.scatter(mu, -delta_sigma_over_t / C_em, label=(r'raw'), color='r')\n",
    "ax.plot(mu_fit, -delta_sigma_over_t_fit / C_em, label=(r'fit'),  ls='--')\n",
    "plt.grid()\n",
    "plt.ylabel(r'$\\frac {\\Delta \\sigma} {T C_em}$')\n",
    "plt.xlabel(r'$\\mu_I$')\n",
    "ax.xaxis.grid(b=True, which='both')\n",
    "ax.yaxis.grid(b=True, which='both')\n",
    "# plt.title(r'$I_{sum} = \\sum_{j=1}^7 \\frac{{\\left(\\frac{1}{t_p} m_0 \\exp(\\frac{-t}{t_p}) \\right)}^j }{j!} e^{{\\left(\\frac{1}{t_p} m_0 \\exp(\\frac{-t}{t_p}) \\right)}^j} \\left( 1 - {\\left(\\frac{1}{2}\\right)}^{j- 1}\\right) + \\sum_{j = 1}^{n=3} C_n^j {\\left(\\frac{1}{t_s} p_0 \\exp(\\frac{-t}{t_s}) \\right)}^j {\\left(1 - \\frac{1}{t_s} p_0 \\exp(\\frac{-t}{t_s}) \\right)}^{n - j} \\left( 1 - {\\left(\\frac{1}{2}\\right)}^{j- 1}\\right)$', fontsize=6)\n",
    "ax.legend(loc='best', frameon=True)\n",
    "plt.draw()"
   ]
  },
  {
   "cell_type": "code",
   "execution_count": 27,
   "id": "d5134f5d",
   "metadata": {},
   "outputs": [
    {
     "data": {
      "text/plain": [
       "(0.39693925672996283, 0.042192398306236875)"
      ]
     },
     "execution_count": 27,
     "metadata": {},
     "output_type": "execute_result"
    }
   ],
   "source": [
    "c_factor, c_factor_err"
   ]
  },
  {
   "cell_type": "code",
   "execution_count": null,
   "id": "27609720",
   "metadata": {},
   "outputs": [],
   "source": []
  },
  {
   "cell_type": "code",
   "execution_count": null,
   "id": "541331c4",
   "metadata": {},
   "outputs": [],
   "source": []
  }
 ],
 "metadata": {
  "kernelspec": {
   "display_name": "Python 3",
   "language": "python",
   "name": "python3"
  },
  "language_info": {
   "codemirror_mode": {
    "name": "ipython",
    "version": 3
   },
   "file_extension": ".py",
   "mimetype": "text/x-python",
   "name": "python",
   "nbconvert_exporter": "python",
   "pygments_lexer": "ipython3",
   "version": "3.7.6"
  }
 },
 "nbformat": 4,
 "nbformat_minor": 5
}
